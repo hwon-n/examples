{
  "nbformat": 4,
  "nbformat_minor": 0,
  "metadata": {
    "colab": {
      "name": "pandas_example.ipynb",
      "provenance": []
    },
    "kernelspec": {
      "name": "python3",
      "display_name": "Python 3"
    },
    "language_info": {
      "name": "python"
    }
  },
  "cells": [
    {
      "cell_type": "markdown",
      "metadata": {
        "id": "Rjp_0PXhX6vT"
      },
      "source": [
        "# pandas 함수 제대로 알기\n",
        "\n",
        "## count() vs size()"
      ]
    },
    {
      "cell_type": "code",
      "metadata": {
        "id": "R1kh54cXX5vJ"
      },
      "source": [
        ""
      ],
      "execution_count": null,
      "outputs": []
    }
  ]
}